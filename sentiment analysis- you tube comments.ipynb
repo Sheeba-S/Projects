{
 "cells": [
  {
   "cell_type": "code",
   "execution_count": null,
   "id": "30a3e205",
   "metadata": {},
   "outputs": [],
   "source": [
    "import numpy as np\n",
    "import pandas as pd\n",
    "import matplotlib.pyplot as plt\n",
    "import seaborn as sns"
   ]
  },
  {
   "cell_type": "code",
   "execution_count": null,
   "id": "74e86c15",
   "metadata": {},
   "outputs": [],
   "source": [
    "comments=pd.read_csv(\"GBcomments.csv\",error_bad_lines=False)"
   ]
  },
  {
   "cell_type": "code",
   "execution_count": null,
   "id": "d899789a",
   "metadata": {},
   "outputs": [],
   "source": [
    "comments.head()"
   ]
  },
  {
   "cell_type": "code",
   "execution_count": null,
   "id": "96bc6533",
   "metadata": {},
   "outputs": [],
   "source": [
    "# !pip install textblob"
   ]
  },
  {
   "cell_type": "code",
   "execution_count": null,
   "id": "2cf50f06",
   "metadata": {},
   "outputs": [],
   "source": [
    "from textblob import TextBlob"
   ]
  },
  {
   "cell_type": "code",
   "execution_count": null,
   "id": "cb3adbd2",
   "metadata": {},
   "outputs": [],
   "source": [
    "TextBlob(\"It's more accurate to call it the M+ (1000) be...\").sentiment.polarity"
   ]
  },
  {
   "cell_type": "code",
   "execution_count": null,
   "id": "94933c98",
   "metadata": {},
   "outputs": [],
   "source": [
    "comments.isna().sum()"
   ]
  },
  {
   "cell_type": "code",
   "execution_count": null,
   "id": "2ae12824",
   "metadata": {},
   "outputs": [],
   "source": [
    "comments.dropna(inplace=True)"
   ]
  },
  {
   "cell_type": "code",
   "execution_count": null,
   "id": "36fe7db8",
   "metadata": {},
   "outputs": [],
   "source": [
    "comments.isna().sum()"
   ]
  },
  {
   "cell_type": "code",
   "execution_count": null,
   "id": "950c940c",
   "metadata": {},
   "outputs": [],
   "source": [
    "polarity=[]\n",
    "\n",
    "for i in comments[\"comment_text\"]:\n",
    "    polarity.append(TextBlob(i).sentiment.polarity)"
   ]
  },
  {
   "cell_type": "code",
   "execution_count": null,
   "id": "38f6b6a0",
   "metadata": {},
   "outputs": [],
   "source": [
    "polarity"
   ]
  },
  {
   "cell_type": "code",
   "execution_count": null,
   "id": "dc219a49",
   "metadata": {},
   "outputs": [],
   "source": [
    "comments['polarity']=polarity"
   ]
  },
  {
   "cell_type": "code",
   "execution_count": null,
   "id": "715ad275",
   "metadata": {},
   "outputs": [],
   "source": [
    "comments.head()"
   ]
  },
  {
   "cell_type": "code",
   "execution_count": null,
   "id": "c3ee4fe2",
   "metadata": {},
   "outputs": [],
   "source": [
    "comments_positive=comments[comments['polarity']==1]"
   ]
  },
  {
   "cell_type": "code",
   "execution_count": null,
   "id": "388e6efe",
   "metadata": {},
   "outputs": [],
   "source": [
    "comments_positive.shape"
   ]
  },
  {
   "cell_type": "code",
   "execution_count": null,
   "id": "02cfd34c",
   "metadata": {},
   "outputs": [],
   "source": [
    "comments_positive.head()"
   ]
  },
  {
   "cell_type": "code",
   "execution_count": null,
   "id": "62ff5ccf",
   "metadata": {},
   "outputs": [],
   "source": [
    "# !pip install wordcloud"
   ]
  },
  {
   "cell_type": "code",
   "execution_count": null,
   "id": "435b582d",
   "metadata": {},
   "outputs": [],
   "source": [
    "from wordcloud import WordCloud,STOPWORDS"
   ]
  },
  {
   "cell_type": "code",
   "execution_count": null,
   "id": "e9faf2d0",
   "metadata": {},
   "outputs": [],
   "source": [
    "stopwords= set(STOPWORDS)"
   ]
  },
  {
   "cell_type": "code",
   "execution_count": null,
   "id": "544c0b45",
   "metadata": {},
   "outputs": [],
   "source": [
    "total_comments=''.join(comments_positive['comment_text'])"
   ]
  },
  {
   "cell_type": "code",
   "execution_count": null,
   "id": "acec3bff",
   "metadata": {},
   "outputs": [],
   "source": [
    "wordcloud=WordCloud(width=1000,height=500,stopwords=stopwords).generate(total_comments)"
   ]
  },
  {
   "cell_type": "code",
   "execution_count": null,
   "id": "d48ee0dd",
   "metadata": {},
   "outputs": [],
   "source": [
    "plt.figure(figsize=(15,5))"
   ]
  },
  {
   "cell_type": "code",
   "execution_count": null,
   "id": "f05fc65a",
   "metadata": {},
   "outputs": [],
   "source": [
    "plt.imshow(wordcloud)\n",
    "plt.axis('off')"
   ]
  },
  {
   "cell_type": "code",
   "execution_count": null,
   "id": "017f3bd5",
   "metadata": {},
   "outputs": [],
   "source": [
    "comments_negative=comments[comments['polarity']==-1]\n",
    "total_comments=''.join(comments_negative['comment_text'])"
   ]
  },
  {
   "cell_type": "code",
   "execution_count": null,
   "id": "12940608",
   "metadata": {},
   "outputs": [],
   "source": [
    "wordcloud=WordCloud(width=1000,height=500,stopwords=stopwords).generate(total_comments)"
   ]
  },
  {
   "cell_type": "code",
   "execution_count": null,
   "id": "7f9d917d",
   "metadata": {},
   "outputs": [],
   "source": [
    "plt.figure(figsize=(15,5))"
   ]
  },
  {
   "cell_type": "code",
   "execution_count": null,
   "id": "b7517867",
   "metadata": {},
   "outputs": [],
   "source": [
    "plt.imshow(wordcloud)\n",
    "plt.axis('off')"
   ]
  },
  {
   "cell_type": "code",
   "execution_count": null,
   "id": "b70cb493",
   "metadata": {},
   "outputs": [],
   "source": [
    "videos=pd.read_csv(\"USvideos.csv\",error_bad_lines=False)"
   ]
  },
  {
   "cell_type": "code",
   "execution_count": null,
   "id": "a70d0837",
   "metadata": {},
   "outputs": [],
   "source": [
    "\n",
    "videos.head()"
   ]
  },
  {
   "cell_type": "code",
   "execution_count": null,
   "id": "589d2712",
   "metadata": {},
   "outputs": [],
   "source": [
    "tags_complete=''.join(videos['tags'])"
   ]
  },
  {
   "cell_type": "code",
   "execution_count": null,
   "id": "66680e17",
   "metadata": {},
   "outputs": [],
   "source": [
    "tags_complete"
   ]
  },
  {
   "cell_type": "code",
   "execution_count": null,
   "id": "f3847332",
   "metadata": {},
   "outputs": [],
   "source": [
    "import re"
   ]
  },
  {
   "cell_type": "code",
   "execution_count": null,
   "id": "879719b8",
   "metadata": {},
   "outputs": [],
   "source": [
    "tags=re.sub('[^a-zA-Z]',' ',tags_complete)"
   ]
  },
  {
   "cell_type": "code",
   "execution_count": null,
   "id": "ed3b3c90",
   "metadata": {},
   "outputs": [],
   "source": [
    "tags"
   ]
  },
  {
   "cell_type": "code",
   "execution_count": null,
   "id": "699c0404",
   "metadata": {},
   "outputs": [],
   "source": [
    "tags=re.sub(' +',' ',tags)"
   ]
  },
  {
   "cell_type": "code",
   "execution_count": null,
   "id": "4ed351b6",
   "metadata": {},
   "outputs": [],
   "source": [
    "wordcloud=WordCloud(width=1000,height=500,stopwords=set(STOPWORDS)).generate(tags)"
   ]
  },
  {
   "cell_type": "code",
   "execution_count": null,
   "id": "b2d27f43",
   "metadata": {},
   "outputs": [],
   "source": [
    "plt.figure(figsize=(15,5))\n",
    "plt.imshow(wordcloud)\n",
    "plt.axis('off')"
   ]
  },
  {
   "cell_type": "code",
   "execution_count": null,
   "id": "73e3081a",
   "metadata": {},
   "outputs": [],
   "source": [
    "sns.regplot(data=videos,x='views',y='likes')\n",
    "plt.title('Regression plot for views and likes')"
   ]
  },
  {
   "cell_type": "code",
   "execution_count": null,
   "id": "4408fd0e",
   "metadata": {},
   "outputs": [],
   "source": [
    "sns.regplot(data=videos,x='views',y='dislikes')\n",
    "plt.title('Regression plot for views and dislikes')"
   ]
  },
  {
   "cell_type": "code",
   "execution_count": null,
   "id": "54cecb76",
   "metadata": {},
   "outputs": [],
   "source": [
    "df_corr=videos[['views','likes','dislikes']]"
   ]
  },
  {
   "cell_type": "code",
   "execution_count": null,
   "id": "a8ad9d8e",
   "metadata": {},
   "outputs": [],
   "source": [
    "df_corr.corr()"
   ]
  },
  {
   "cell_type": "code",
   "execution_count": null,
   "id": "78bf9a09",
   "metadata": {},
   "outputs": [],
   "source": [
    "sns.heatmap(df_corr.corr(),annot=True)"
   ]
  },
  {
   "cell_type": "code",
   "execution_count": null,
   "id": "0fee9070",
   "metadata": {},
   "outputs": [],
   "source": [
    "comments.head()"
   ]
  },
  {
   "cell_type": "code",
   "execution_count": null,
   "id": "30f8bfbe",
   "metadata": {},
   "outputs": [],
   "source": [
    "comments['comment_text'][1]"
   ]
  },
  {
   "cell_type": "code",
   "execution_count": null,
   "id": "1ee34674",
   "metadata": {},
   "outputs": [],
   "source": [
    "print(\"\\U0001F600\")"
   ]
  },
  {
   "cell_type": "code",
   "execution_count": null,
   "id": "f5375ed2",
   "metadata": {},
   "outputs": [],
   "source": [
    "#!pip install emoji"
   ]
  },
  {
   "cell_type": "code",
   "execution_count": null,
   "id": "0b4b4af3",
   "metadata": {},
   "outputs": [],
   "source": [
    "import emoji"
   ]
  },
  {
   "cell_type": "code",
   "execution_count": null,
   "id": "59a37bbb",
   "metadata": {},
   "outputs": [],
   "source": [
    "emoji.UNICODE_EMOJI"
   ]
  },
  {
   "cell_type": "code",
   "execution_count": null,
   "id": "b503df2a",
   "metadata": {},
   "outputs": [],
   "source": [
    "len(comments)"
   ]
  },
  {
   "cell_type": "code",
   "execution_count": null,
   "id": "dae9621c",
   "metadata": {},
   "outputs": [],
   "source": [
    "comment=comments['comment_text'][1]"
   ]
  },
  {
   "cell_type": "code",
   "execution_count": null,
   "id": "00858cf9",
   "metadata": {},
   "outputs": [],
   "source": [
    "comment"
   ]
  },
  {
   "cell_type": "code",
   "execution_count": null,
   "id": "d4435511",
   "metadata": {},
   "outputs": [],
   "source": [
    "[c for c in comment if c in emoji.UNICODE_EMOJI_ENGLISH]\n"
   ]
  },
  {
   "cell_type": "code",
   "execution_count": null,
   "id": "bf58c1df",
   "metadata": {},
   "outputs": [],
   "source": [
    "emoji.__version__"
   ]
  },
  {
   "cell_type": "code",
   "execution_count": null,
   "id": "08b5e726",
   "metadata": {},
   "outputs": [],
   "source": [
    "#!pip uninstall emoji"
   ]
  },
  {
   "cell_type": "code",
   "execution_count": null,
   "id": "c6adeb2e",
   "metadata": {},
   "outputs": [],
   "source": [
    "#!pip install emoji0.6.0"
   ]
  },
  {
   "cell_type": "code",
   "execution_count": null,
   "id": "d473e2e7",
   "metadata": {},
   "outputs": [],
   "source": []
  },
  {
   "cell_type": "code",
   "execution_count": null,
   "id": "1a47b936",
   "metadata": {},
   "outputs": [],
   "source": [
    "str=''\n",
    "for i in comments['comment_text']:\n",
    "    list=[c for c in i if c in emoji.UNICODE_EMOJI_ENGLISH]\n",
    "    for ele in list:\n",
    "        str= str+ele"
   ]
  },
  {
   "cell_type": "code",
   "execution_count": null,
   "id": "d8e169c1",
   "metadata": {},
   "outputs": [],
   "source": [
    "len(str)"
   ]
  },
  {
   "cell_type": "code",
   "execution_count": null,
   "id": "1f351a3b",
   "metadata": {},
   "outputs": [],
   "source": [
    "str"
   ]
  },
  {
   "cell_type": "code",
   "execution_count": null,
   "id": "22d80d02",
   "metadata": {},
   "outputs": [],
   "source": [
    "result={}\n",
    "for i in set(str):\n",
    "    result[i]=str.count(i)\n",
    "    "
   ]
  },
  {
   "cell_type": "code",
   "execution_count": null,
   "id": "893f9445",
   "metadata": {},
   "outputs": [],
   "source": [
    "result"
   ]
  },
  {
   "cell_type": "code",
   "execution_count": null,
   "id": "fcd3f40e",
   "metadata": {},
   "outputs": [],
   "source": [
    "result.items()"
   ]
  },
  {
   "cell_type": "code",
   "execution_count": null,
   "id": "8146977f",
   "metadata": {},
   "outputs": [],
   "source": [
    "final={}\n",
    "for key,value in sorted(result.items(),key=lambda item:item[1]):\n",
    "    final[key]=value"
   ]
  },
  {
   "cell_type": "code",
   "execution_count": null,
   "id": "8efb04d1",
   "metadata": {},
   "outputs": [],
   "source": [
    "final"
   ]
  },
  {
   "cell_type": "code",
   "execution_count": null,
   "id": "aa19c27e",
   "metadata": {},
   "outputs": [],
   "source": [
    "keys=[*final.keys()]\n",
    "keys"
   ]
  },
  {
   "cell_type": "code",
   "execution_count": null,
   "id": "1ebf7bfd",
   "metadata": {},
   "outputs": [],
   "source": [
    "values=[*final.values()]\n",
    "values"
   ]
  },
  {
   "cell_type": "code",
   "execution_count": null,
   "id": "ba698e8b",
   "metadata": {},
   "outputs": [],
   "source": [
    "df=pd.dataframe({'chars':keys[-20:],'num':values[-20:]})"
   ]
  },
  {
   "cell_type": "code",
   "execution_count": null,
   "id": "991e3c80",
   "metadata": {},
   "outputs": [],
   "source": [
    "df.head()"
   ]
  },
  {
   "cell_type": "code",
   "execution_count": null,
   "id": "710ee9cb",
   "metadata": {},
   "outputs": [],
   "source": [
    "import plotly.graph_objs as go\n",
    "from plotly offline import iplot"
   ]
  },
  {
   "cell_type": "code",
   "execution_count": null,
   "id": "a93f0c5f",
   "metadata": {},
   "outputs": [],
   "source": [
    "trace=go.bar(x=df['chars'],y=df['num'])\n",
    "iplot([trace])"
   ]
  },
  {
   "cell_type": "code",
   "execution_count": null,
   "id": "50936396",
   "metadata": {},
   "outputs": [],
   "source": []
  }
 ],
 "metadata": {
  "kernelspec": {
   "display_name": "Python 3",
   "language": "python",
   "name": "python3"
  },
  "language_info": {
   "codemirror_mode": {
    "name": "ipython",
    "version": 3
   },
   "file_extension": ".py",
   "mimetype": "text/x-python",
   "name": "python",
   "nbconvert_exporter": "python",
   "pygments_lexer": "ipython3",
   "version": "3.8.8"
  }
 },
 "nbformat": 4,
 "nbformat_minor": 5
}
